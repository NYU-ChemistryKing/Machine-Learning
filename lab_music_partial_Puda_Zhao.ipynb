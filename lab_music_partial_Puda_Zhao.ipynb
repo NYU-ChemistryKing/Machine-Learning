{
 "cells": [
  {
   "cell_type": "markdown",
   "metadata": {},
   "source": [
    "# Lab:  Neural Networks for Music Classification\n",
    "\n",
    "In addition to the concepts in the [MNIST neural network demo](./demo2_mnist_neural.ipynb), in this lab, you will learn to:\n",
    "* Load a file from a URL\n",
    "* Extract simple features from audio samples for machine learning tasks such as speech recognition and classification\n",
    "* Build a simple neural network for music classification using these features\n",
    "* Use a callback to store the loss and accuracy history in the training process\n",
    "* Optimize the learning rate of the neural network\n",
    "\n",
    "To illustrate the basic concepts, we will look at a relatively simple music classification problem.  Given a sample of music, we want to determine which instrument (e.g. trumpet, violin, piano) is playing.  This dataset was generously supplied by [Prof. Juan Bello](http://steinhardt.nyu.edu/faculty/Juan_Pablo_Bello) at NYU Stenihardt  and his former PhD student Eric Humphrey (now at Spotify).  They have a complete website dedicated to deep learning methods in music informatics:\n",
    "\n",
    "http://marl.smusic.nyu.edu/wordpress/projects/feature-learning-deep-architectures/deep-learning-python-tutorial/\n",
    "\n",
    "You can also check out Juan's <a href=\"http://www.nyu.edu/classes/bello/ACA.html\">course</a>.\n",
    "\n"
   ]
  },
  {
   "cell_type": "markdown",
   "metadata": {},
   "source": [
    "## Loading Tensorflow\n",
    "\n",
    "Before starting this lab, you will need to install [Tensorflow](https://www.tensorflow.org/install/).  If you are using [Google colaboratory](https://colab.research.google.com), Tensorflow is already installed.  Run the following command to ensure Tensorflow is installed."
   ]
  },
  {
   "cell_type": "code",
   "execution_count": 2,
   "metadata": {},
   "outputs": [],
   "source": [
    "import tensorflow as tf"
   ]
  },
  {
   "cell_type": "markdown",
   "metadata": {},
   "source": [
    "Then, load the other packages."
   ]
  },
  {
   "cell_type": "code",
   "execution_count": 3,
   "metadata": {},
   "outputs": [],
   "source": [
    "import numpy as np\n",
    "import matplotlib\n",
    "import matplotlib.pyplot as plt"
   ]
  },
  {
   "cell_type": "markdown",
   "metadata": {},
   "source": [
    "## Audio Feature Extraction with Librosa\n",
    "\n",
    "The key to audio classification is to extract the correct features. In addition to `keras`, we will need the `librosa` package.  The `librosa` package in python has a rich set of methods extracting the features of audio samples commonly used in machine learning tasks such as speech recognition and sound classification. \n",
    "\n",
    "Installation instructions and complete documentation for the package are given on the [librosa main page](https://librosa.github.io/librosa/).  On most systems, you should be able to simply use:\n",
    "\n",
    "    pip install librosa\n",
    "    \n",
    "For Unix, you may need to load some additional packages:\n",
    "\n",
    "    sudo apt-get install build-essential\n",
    "    sudo apt-get install libxext-dev python-qt4 qt4-dev-tools\n",
    "    pip install librosa\n",
    "    \n",
    "After you have installed the package, try to import it."
   ]
  },
  {
   "cell_type": "code",
   "execution_count": 4,
   "metadata": {},
   "outputs": [],
   "source": [
    "import librosa\n",
    "import librosa.display\n",
    "import librosa.feature"
   ]
  },
  {
   "cell_type": "markdown",
   "metadata": {},
   "source": [
    "In this lab, we will use a set of music samples from the website:\n",
    "\n",
    "http://theremin.music.uiowa.edu\n",
    "\n",
    "This website has a great set of samples for audio processing.  Look on the web for how to use the `requests.get` and `file.write` commands to load the file at the URL provided into your working directory.\n",
    "\n",
    "You can play the audio sample by copying the file to your local machine and playing it on any media player.  If you listen to it you will hear a soprano saxaphone (with vibrato) playing four notes (C, C#, D, Eb)."
   ]
  },
  {
   "cell_type": "code",
   "execution_count": 5,
   "metadata": {},
   "outputs": [],
   "source": [
    "import requests\n",
    "fn = \"SopSax.Vib.pp.C6Eb6.aiff\"\n",
    "url = \"http://theremin.music.uiowa.edu/sound files/MIS/Woodwinds/sopranosaxophone/\" + fn\n",
    "\n",
    "# TODO 1:  Load the file from url and save it in a file under the name fn\n",
    "a = requests.get(url)\n",
    "with open(fn, 'wb') as file:\n",
    "# \"w\" - Write - Opens a file for writing, creates the file if it does not exist\n",
    "# \"b\" - Binary - Binary mode (e.g. images)\n",
    "    file.write(a.content)"
   ]
  },
  {
   "cell_type": "markdown",
   "metadata": {},
   "source": [
    "Next, use `librosa` command `librosa.load` to read the audio file with filename `fn` and get the samples `y` and sample rate `sr`."
   ]
  },
  {
   "cell_type": "code",
   "execution_count": 6,
   "metadata": {},
   "outputs": [],
   "source": [
    "# TODO 2\n",
    "y, sr = librosa.load(fn)"
   ]
  },
  {
   "cell_type": "markdown",
   "metadata": {},
   "source": [
    "Extracting features from audio files is an entire subject on its own right.  A commonly used set of features are called the Mel Frequency Cepstral Coefficients (MFCCs).  These are derived from the so-called mel spectrogram which is something like a regular spectrogram, but the power and frequency are represented in log scale, which more naturally aligns with human perceptual processing.  You can run the code below to display the mel spectrogram from the audio sample.\n",
    "\n",
    "You can easily see the four notes played in the audio track.  You also see the 'harmonics' of each notes, which are other tones at integer multiples of the fundamental frequency of each note."
   ]
  },
  {
   "cell_type": "code",
   "execution_count": 7,
   "metadata": {},
   "outputs": [
    {
     "data": {
      "image/png": "[encoded data removed]",
      "text/plain": [
       "<Figure size 432x288 with 2 Axes>"
      ]
     },
     "metadata": {
      "needs_background": "light"
     },
     "output_type": "display_data"
    }
   ],
   "source": [
    "S = librosa.feature.melspectrogram(y=y, sr=sr, n_mels=128, fmax=8000)\n",
    "librosa.display.specshow(librosa.amplitude_to_db(S),\n",
    "                         y_axis='mel', fmax=8000, x_axis='time')\n",
    "plt.colorbar(format='%+2.0f dB')\n",
    "plt.title('Mel spectrogram')\n",
    "plt.tight_layout()"
   ]
  },
  {
   "cell_type": "markdown",
   "metadata": {},
   "source": [
    "## Downloading the Data\n",
    "\n",
    "Using the MFCC features described above, Eric Humphrey and Juan Bellow have created a complete data set that can used for instrument classification.  Essentially, they collected a number of data files from the website above.  For each audio file, the segmented the track into notes and then extracted 120 MFCCs for each note.  The goal is to recognize the instrument from the 120 MFCCs.  The process of feature extraction is quite involved.  So, we will just use their processed data provided at:\n",
    "\n",
    "https://github.com/marl/dl4mir-tutorial/blob/master/README.md\n",
    "\n",
    "Note the password.  Load the four files into some directory, say  `instrument_dataset`.  Then, load them with the commands."
   ]
  },
  {
   "cell_type": "code",
   "execution_count": 8,
   "metadata": {},
   "outputs": [],
   "source": [
    "data_dir = 'instrument_dataset/'\n",
    "Xtr = np.load(data_dir+'uiowa_train_data.npy')\n",
    "ytr = np.load(data_dir+'uiowa_train_labels.npy')\n",
    "Xts = np.load(data_dir+'uiowa_test_data.npy')\n",
    "yts = np.load(data_dir+'uiowa_test_labels.npy')"
   ]
  },
  {
   "cell_type": "markdown",
   "metadata": {},
   "source": [
    "Looking at the data files:\n",
    "* What are the number of training and test samples?\n",
    "* What is the number of features for each sample?\n",
    "* How many classes (i.e. instruments) are there per class?\n"
   ]
  },
  {
   "cell_type": "code",
   "execution_count": 9,
   "metadata": {},
   "outputs": [
    {
     "name": "stdout",
     "output_type": "stream",
     "text": [
      "Number of training samples: 66247\n",
      "Number of test samples: 14904\n",
      "Number of features: 120\n",
      "Number of classes: 10\n"
     ]
    }
   ],
   "source": [
    "# TODO 3\n",
    "print('Number of training samples:', Xtr.shape[0])\n",
    "print('Number of test samples:', Xts.shape[0])\n",
    "print('Number of features:', Xtr.shape[1])\n",
    "print('Number of classes:', np.max(ytr)+1)"
   ]
  },
  {
   "cell_type": "markdown",
   "metadata": {},
   "source": [
    "Before continuing, you must scale the training and test data, `Xtr` and `Xts`.  Compute the mean and std deviation of each feature in `Xtr` and create a new training data set, `Xtr_scale`, by subtracting the mean and dividing by the std deviation.  Also compute a scaled test data set, `Xts_scale` using the mean and std deviation learned from the training data set."
   ]
  },
  {
   "cell_type": "code",
   "execution_count": 10,
   "metadata": {},
   "outputs": [],
   "source": [
    "# TODO 4: Scale the training and test matrices\n",
    "# Xtr_scale = ...\n",
    "# Xts_scale = ...\n",
    "Xtr_mean = np.mean(Xtr, axis = 0)\n",
    "Xtr_std = np.std(Xtr, axis = 0)\n",
    "Xtr_scale = (Xtr-Xtr_mean.T)/Xtr_std.T\n",
    "Xts_scale = (Xts-Xtr_mean.T)/Xtr_std.T"
   ]
  },
  {
   "cell_type": "markdown",
   "metadata": {
    "collapsed": true
   },
   "source": [
    "## Building a Neural Network Classifier\n",
    "\n",
    "Following the example in [MNIST neural network demo](./mnist_neural.ipynb), clear the keras session.  Then, create a neural network `model` with:\n",
    "* `nh=256` hidden units\n",
    "* `sigmoid` activation\n",
    "* select the input and output shapes correctly\n",
    "* print the model summary"
   ]
  },
  {
   "cell_type": "code",
   "execution_count": 11,
   "metadata": {},
   "outputs": [],
   "source": [
    "from tensorflow.keras.models import Model, Sequential\n",
    "from tensorflow.keras.layers import Dense, Activation\n",
    "import tensorflow.keras.backend as K\n"
   ]
  },
  {
   "cell_type": "code",
   "execution_count": 12,
   "metadata": {},
   "outputs": [],
   "source": [
    "# TODO 5 clear session\n",
    "K.clear_session()"
   ]
  },
  {
   "cell_type": "code",
   "execution_count": 13,
   "metadata": {},
   "outputs": [],
   "source": [
    "# TODO 6: construct the model\n",
    "nh = 256\n",
    "num_in = Xtr.shape[1]\n",
    "num_out = np.max(ytr) + 1\n",
    "model = Sequential()\n",
    "model.add(Dense(nh, input_shape=(num_in,), activation='sigmoid', name='hidden'))\n",
    "model.add(Dense(num_out, activation='softmax', name='output'))"
   ]
  },
  {
   "cell_type": "code",
   "execution_count": 14,
   "metadata": {},
   "outputs": [
    {
     "name": "stdout",
     "output_type": "stream",
     "text": [
      "Model: \"sequential\"\n",
      "_________________________________________________________________\n",
      "Layer (type)                 Output Shape              Param #   \n",
      "=================================================================\n",
      "hidden (Dense)               (None, 256)               30976     \n",
      "_________________________________________________________________\n",
      "output (Dense)               (None, 10)                2570      \n",
      "=================================================================\n",
      "Total params: 33,546\n",
      "Trainable params: 33,546\n",
      "Non-trainable params: 0\n",
      "_________________________________________________________________\n"
     ]
    }
   ],
   "source": [
    "# TODO 7:  Print the model summary\n",
    "model.summary()"
   ]
  },
  {
   "cell_type": "markdown",
   "metadata": {},
   "source": [
    "Create an optimizer and compile the model.  Select the appropriate loss function and metrics.  For the optimizer, use the Adam optimizer with a learning rate of 0.001"
   ]
  },
  {
   "cell_type": "code",
   "execution_count": 15,
   "metadata": {
    "scrolled": true
   },
   "outputs": [],
   "source": [
    "# TODO 8\n",
    "from tensorflow.keras import optimizers \n",
    "opt = optimizers.Adam(learning_rate=0.001)\n",
    "model.compile(optimizer=opt,loss='sparse_categorical_crossentropy',metrics=['accuracy'])"
   ]
  },
  {
   "cell_type": "markdown",
   "metadata": {},
   "source": [
    "Fit the model for 10 epochs using the scaled data for both the training and validation.  Use the `validation_data` option to pass the test data.  Also, pass the callback class create above.  Use a batch size of 100.  Your final accuracy should be >99%."
   ]
  },
  {
   "cell_type": "code",
   "execution_count": 16,
   "metadata": {
    "scrolled": true
   },
   "outputs": [
    {
     "name": "stdout",
     "output_type": "stream",
     "text": [
      "Epoch 1/10\n",
      "663/663 [==============================] - 1s 904us/step - loss: 0.3583 - accuracy: 0.9044 - val_loss: 0.1882 - val_accuracy: 0.9423\n",
      "Epoch 2/10\n",
      "663/663 [==============================] - 0s 688us/step - loss: 0.1000 - accuracy: 0.9758 - val_loss: 0.0931 - val_accuracy: 0.9759\n",
      "Epoch 3/10\n",
      "663/663 [==============================] - 1s 771us/step - loss: 0.0588 - accuracy: 0.9859 - val_loss: 0.0622 - val_accuracy: 0.9856\n",
      "Epoch 4/10\n",
      "663/663 [==============================] - 1s 764us/step - loss: 0.0413 - accuracy: 0.9900 - val_loss: 0.0448 - val_accuracy: 0.9887\n",
      "Epoch 5/10\n",
      "663/663 [==============================] - 0s 706us/step - loss: 0.0312 - accuracy: 0.9920 - val_loss: 0.0379 - val_accuracy: 0.9888\n",
      "Epoch 6/10\n",
      "663/663 [==============================] - 1s 757us/step - loss: 0.0248 - accuracy: 0.9938 - val_loss: 0.0363 - val_accuracy: 0.9897\n",
      "Epoch 7/10\n",
      "663/663 [==============================] - 0s 741us/step - loss: 0.0206 - accuracy: 0.9945 - val_loss: 0.0294 - val_accuracy: 0.9902\n",
      "Epoch 8/10\n",
      "663/663 [==============================] - 0s 724us/step - loss: 0.0171 - accuracy: 0.9954 - val_loss: 0.0262 - val_accuracy: 0.9917\n",
      "Epoch 9/10\n",
      "663/663 [==============================] - 0s 736us/step - loss: 0.0145 - accuracy: 0.9962 - val_loss: 0.0268 - val_accuracy: 0.9926\n",
      "Epoch 10/10\n",
      "663/663 [==============================] - 0s 697us/step - loss: 0.0129 - accuracy: 0.9966 - val_loss: 0.0312 - val_accuracy: 0.9892\n"
     ]
    }
   ],
   "source": [
    "# TODO 9\n",
    "hist = model.fit(Xtr_scale, ytr, epochs=10, batch_size=100, validation_data=(Xts_scale,yts))"
   ]
  },
  {
   "cell_type": "markdown",
   "metadata": {},
   "source": [
    "Plot the validation accuracy saved in `hist.history` dictionary. This gives one accuracy value per epoch.  You should see that the validation accuracy saturates at a little higher than 99%.  After that it \"bounces around\" due to the noise in the stochastic gradient descent."
   ]
  },
  {
   "cell_type": "code",
   "execution_count": 17,
   "metadata": {},
   "outputs": [
    {
     "data": {
      "text/plain": [
       "{'loss': [0.35830074548721313,\n",
       "  0.10002673417329788,\n",
       "  0.05880139023065567,\n",
       "  0.041325170546770096,\n",
       "  0.031225143000483513,\n",
       "  0.024776078760623932,\n",
       "  0.020559053868055344,\n",
       "  0.017109816893935204,\n",
       "  0.01451558992266655,\n",
       "  0.012876246124505997],\n",
       " 'accuracy': [0.9044334292411804,\n",
       "  0.9758328795433044,\n",
       "  0.985946536064148,\n",
       "  0.9900221824645996,\n",
       "  0.9919845461845398,\n",
       "  0.9937959313392639,\n",
       "  0.9945356249809265,\n",
       "  0.9954413175582886,\n",
       "  0.9962111711502075,\n",
       "  0.9966036081314087],\n",
       " 'val_loss': [0.18815024197101593,\n",
       "  0.093136265873909,\n",
       "  0.06219269707798958,\n",
       "  0.04478176683187485,\n",
       "  0.037869494408369064,\n",
       "  0.03632337599992752,\n",
       "  0.029447168111801147,\n",
       "  0.02617405354976654,\n",
       "  0.0268019400537014,\n",
       "  0.031200429424643517],\n",
       " 'val_accuracy': [0.9422973990440369,\n",
       "  0.9759125113487244,\n",
       "  0.9856414198875427,\n",
       "  0.988727867603302,\n",
       "  0.9887949824333191,\n",
       "  0.9896671772003174,\n",
       "  0.9902039766311646,\n",
       "  0.9917472004890442,\n",
       "  0.9926194548606873,\n",
       "  0.9891975522041321]}"
      ]
     },
     "execution_count": 17,
     "metadata": {},
     "output_type": "execute_result"
    }
   ],
   "source": [
    "hist.history"
   ]
  },
  {
   "cell_type": "code",
   "execution_count": 18,
   "metadata": {},
   "outputs": [
    {
     "data": {
      "text/plain": [
       "Text(0, 0.5, 'Accuracy')"
      ]
     },
     "execution_count": 18,
     "metadata": {},
     "output_type": "execute_result"
    },
    {
     "data": {
      "image/png": "[encoded data removed]",
      "text/plain": [
       "<Figure size 432x288 with 1 Axes>"
      ]
     },
     "metadata": {
      "needs_background": "light"
     },
     "output_type": "display_data"
    }
   ],
   "source": [
    "# TODO 10\n",
    "validation_accuracy = hist.history['val_accuracy']\n",
    "num_epochs = len(validation_accuracy)\n",
    "plt.plot(np.arange(1,num_epochs+1), validation_accuracy, 'o-')\n",
    "plt.grid()\n",
    "plt.xlabel('Epoch')\n",
    "plt.ylabel('Accuracy')"
   ]
  },
  {
   "cell_type": "markdown",
   "metadata": {},
   "source": [
    "Plot the loss values saved in the `hist.history` dictionary.  You should see that the loss is steadily decreasing.  Use the `semilogy` plot."
   ]
  },
  {
   "cell_type": "code",
   "execution_count": 19,
   "metadata": {},
   "outputs": [
    {
     "data": {
      "image/png": "[encoded data removed]",
      "text/plain": [
       "<Figure size 432x288 with 1 Axes>"
      ]
     },
     "metadata": {
      "needs_background": "light"
     },
     "output_type": "display_data"
    }
   ],
   "source": [
    "# TODO 11\n",
    "loss = hist.history['loss']\n",
    "plt.semilogy(np.arange(1,num_epochs+1), loss, 'o-')\n",
    "plt.xlabel('Epoch')\n",
    "plt.ylabel('Loss')\n",
    "plt.grid()\n",
    "plt.tight_layout()"
   ]
  },
  {
   "cell_type": "markdown",
   "metadata": {},
   "source": [
    "## Optimizing the Learning Rate\n",
    "\n",
    "One challenge in training neural networks is the selection of the learning rate.  Rerun the above code, trying four learning rates as shown in the vector `rates`.  For each learning rate:\n",
    "* clear the session\n",
    "* construct the network\n",
    "* select the optimizer.  Use the Adam optimizer with the appropriate learrning rate.\n",
    "* train the model for 20 epochs\n",
    "* save the accuracy and losses"
   ]
  },
  {
   "cell_type": "code",
   "execution_count": 20,
   "metadata": {},
   "outputs": [
    {
     "name": "stdout",
     "output_type": "stream",
     "text": [
      "Epoch 1/20\n",
      "663/663 [==============================] - 1s 865us/step - loss: 0.1116 - accuracy: 0.9654 - val_loss: 0.0503 - val_accuracy: 0.9854\n",
      "Epoch 2/20\n",
      "663/663 [==============================] - 0s 718us/step - loss: 0.0290 - accuracy: 0.9907 - val_loss: 0.0382 - val_accuracy: 0.9853\n",
      "Epoch 3/20\n",
      "663/663 [==============================] - 1s 762us/step - loss: 0.0189 - accuracy: 0.9937 - val_loss: 0.0361 - val_accuracy: 0.9873\n",
      "Epoch 4/20\n",
      "663/663 [==============================] - 0s 726us/step - loss: 0.0188 - accuracy: 0.9938 - val_loss: 0.0322 - val_accuracy: 0.9882\n",
      "Epoch 5/20\n",
      "663/663 [==============================] - 0s 736us/step - loss: 0.0153 - accuracy: 0.9948 - val_loss: 0.0652 - val_accuracy: 0.9791\n",
      "Epoch 6/20\n",
      "663/663 [==============================] - 1s 759us/step - loss: 0.0167 - accuracy: 0.9946 - val_loss: 0.0463 - val_accuracy: 0.9871\n",
      "Epoch 7/20\n",
      "663/663 [==============================] - 0s 745us/step - loss: 0.0122 - accuracy: 0.9959 - val_loss: 0.0435 - val_accuracy: 0.9860\n",
      "Epoch 8/20\n",
      "663/663 [==============================] - 1s 757us/step - loss: 0.0126 - accuracy: 0.9962 - val_loss: 0.0444 - val_accuracy: 0.9853\n",
      "Epoch 9/20\n",
      "663/663 [==============================] - 0s 747us/step - loss: 0.0114 - accuracy: 0.9963 - val_loss: 0.0197 - val_accuracy: 0.9929\n",
      "Epoch 10/20\n",
      "663/663 [==============================] - 1s 761us/step - loss: 0.0108 - accuracy: 0.9968 - val_loss: 0.0724 - val_accuracy: 0.9819\n",
      "Epoch 11/20\n",
      "663/663 [==============================] - 0s 748us/step - loss: 0.0090 - accuracy: 0.9972 - val_loss: 0.0819 - val_accuracy: 0.9780\n",
      "Epoch 12/20\n",
      "663/663 [==============================] - 1s 754us/step - loss: 0.0132 - accuracy: 0.9959 - val_loss: 0.0484 - val_accuracy: 0.9858\n",
      "Epoch 13/20\n",
      "663/663 [==============================] - 1s 756us/step - loss: 0.0089 - accuracy: 0.9969 - val_loss: 0.0538 - val_accuracy: 0.9861\n",
      "Epoch 14/20\n",
      "663/663 [==============================] - 0s 751us/step - loss: 0.0095 - accuracy: 0.9973 - val_loss: 0.0442 - val_accuracy: 0.9889\n",
      "Epoch 15/20\n",
      "663/663 [==============================] - 0s 739us/step - loss: 0.0102 - accuracy: 0.9968 - val_loss: 0.0512 - val_accuracy: 0.9879\n",
      "Epoch 16/20\n",
      "663/663 [==============================] - 1s 804us/step - loss: 0.0078 - accuracy: 0.9978 - val_loss: 0.0448 - val_accuracy: 0.9896\n",
      "Epoch 17/20\n",
      "663/663 [==============================] - 1s 762us/step - loss: 0.0103 - accuracy: 0.9972 - val_loss: 0.1498 - val_accuracy: 0.9750\n",
      "Epoch 18/20\n",
      "663/663 [==============================] - 1s 754us/step - loss: 0.0106 - accuracy: 0.9971 - val_loss: 0.0463 - val_accuracy: 0.9887\n",
      "Epoch 19/20\n",
      "663/663 [==============================] - 0s 753us/step - loss: 0.0110 - accuracy: 0.9968 - val_loss: 0.0556 - val_accuracy: 0.9864\n",
      "Epoch 20/20\n",
      "663/663 [==============================] - 0s 753us/step - loss: 0.0077 - accuracy: 0.9977 - val_loss: 0.0299 - val_accuracy: 0.9929\n",
      "With Learning rate = 0.01 Test Accuracy =  0.9928877949714661\n",
      "Epoch 1/20\n",
      "663/663 [==============================] - 1s 1ms/step - loss: 0.3683 - accuracy: 0.8986 - val_loss: 0.2058 - val_accuracy: 0.9369\n",
      "Epoch 2/20\n",
      "663/663 [==============================] - 0s 706us/step - loss: 0.1056 - accuracy: 0.9744 - val_loss: 0.0957 - val_accuracy: 0.9790\n",
      "Epoch 3/20\n",
      "663/663 [==============================] - 0s 711us/step - loss: 0.0622 - accuracy: 0.9850 - val_loss: 0.0676 - val_accuracy: 0.9810\n",
      "Epoch 4/20\n",
      "663/663 [==============================] - 0s 711us/step - loss: 0.0439 - accuracy: 0.9888 - val_loss: 0.0520 - val_accuracy: 0.9858\n",
      "Epoch 5/20\n",
      "663/663 [==============================] - 0s 705us/step - loss: 0.0329 - accuracy: 0.9913 - val_loss: 0.0424 - val_accuracy: 0.9892\n",
      "Epoch 6/20\n",
      "663/663 [==============================] - 0s 711us/step - loss: 0.0257 - accuracy: 0.9937 - val_loss: 0.0365 - val_accuracy: 0.9877\n",
      "Epoch 7/20\n",
      "663/663 [==============================] - 0s 717us/step - loss: 0.0214 - accuracy: 0.9945 - val_loss: 0.0305 - val_accuracy: 0.9909\n",
      "Epoch 8/20\n",
      "663/663 [==============================] - 0s 738us/step - loss: 0.0175 - accuracy: 0.9955 - val_loss: 0.0246 - val_accuracy: 0.9936\n",
      "Epoch 9/20\n",
      "663/663 [==============================] - 0s 723us/step - loss: 0.0150 - accuracy: 0.9962 - val_loss: 0.0251 - val_accuracy: 0.9928\n",
      "Epoch 10/20\n",
      "663/663 [==============================] - 0s 739us/step - loss: 0.0132 - accuracy: 0.9966 - val_loss: 0.0243 - val_accuracy: 0.9927\n",
      "Epoch 11/20\n",
      "663/663 [==============================] - 0s 715us/step - loss: 0.0112 - accuracy: 0.9971 - val_loss: 0.0226 - val_accuracy: 0.9929\n",
      "Epoch 12/20\n",
      "663/663 [==============================] - 0s 718us/step - loss: 0.0101 - accuracy: 0.9975 - val_loss: 0.0243 - val_accuracy: 0.9915\n",
      "Epoch 13/20\n",
      "663/663 [==============================] - 0s 730us/step - loss: 0.0093 - accuracy: 0.9975 - val_loss: 0.0215 - val_accuracy: 0.9926\n",
      "Epoch 14/20\n",
      "663/663 [==============================] - 0s 715us/step - loss: 0.0084 - accuracy: 0.9978 - val_loss: 0.0316 - val_accuracy: 0.9885\n",
      "Epoch 15/20\n",
      "663/663 [==============================] - 1s 761us/step - loss: 0.0075 - accuracy: 0.9981 - val_loss: 0.0219 - val_accuracy: 0.9914\n",
      "Epoch 16/20\n",
      "663/663 [==============================] - 0s 750us/step - loss: 0.0070 - accuracy: 0.9982 - val_loss: 0.0244 - val_accuracy: 0.9913\n",
      "Epoch 17/20\n",
      "663/663 [==============================] - 1s 757us/step - loss: 0.0062 - accuracy: 0.9983 - val_loss: 0.0217 - val_accuracy: 0.9917\n",
      "Epoch 18/20\n",
      "663/663 [==============================] - 0s 718us/step - loss: 0.0058 - accuracy: 0.9985 - val_loss: 0.0248 - val_accuracy: 0.9912\n",
      "Epoch 19/20\n",
      "663/663 [==============================] - 0s 727us/step - loss: 0.0055 - accuracy: 0.9984 - val_loss: 0.0208 - val_accuracy: 0.9924\n",
      "Epoch 20/20\n",
      "663/663 [==============================] - 0s 715us/step - loss: 0.0053 - accuracy: 0.9984 - val_loss: 0.0202 - val_accuracy: 0.9932\n",
      "With Learning rate = 0.001 Test Accuracy =  0.9931561946868896\n",
      "Epoch 1/20\n",
      "663/663 [==============================] - 1s 910us/step - loss: 1.1702 - accuracy: 0.6275 - val_loss: 0.8632 - val_accuracy: 0.6699\n",
      "Epoch 2/20\n",
      "663/663 [==============================] - 0s 721us/step - loss: 0.5632 - accuracy: 0.8504 - val_loss: 0.5831 - val_accuracy: 0.8218\n",
      "Epoch 3/20\n",
      "663/663 [==============================] - 0s 711us/step - loss: 0.3892 - accuracy: 0.9116 - val_loss: 0.4441 - val_accuracy: 0.8752\n",
      "Epoch 4/20\n",
      "663/663 [==============================] - 0s 714us/step - loss: 0.2999 - accuracy: 0.9327 - val_loss: 0.3529 - val_accuracy: 0.9031\n",
      "Epoch 5/20\n",
      "663/663 [==============================] - 0s 721us/step - loss: 0.2434 - accuracy: 0.9450 - val_loss: 0.2892 - val_accuracy: 0.9205\n",
      "Epoch 6/20\n",
      "663/663 [==============================] - 0s 712us/step - loss: 0.2031 - accuracy: 0.9531 - val_loss: 0.2449 - val_accuracy: 0.9317\n",
      "Epoch 7/20\n",
      "663/663 [==============================] - 0s 721us/step - loss: 0.1726 - accuracy: 0.9592 - val_loss: 0.2136 - val_accuracy: 0.9384\n",
      "Epoch 8/20\n",
      "663/663 [==============================] - 0s 717us/step - loss: 0.1486 - accuracy: 0.9640 - val_loss: 0.1857 - val_accuracy: 0.9457\n",
      "Epoch 9/20\n",
      "663/663 [==============================] - 0s 724us/step - loss: 0.1294 - accuracy: 0.9684 - val_loss: 0.1562 - val_accuracy: 0.9561\n",
      "Epoch 10/20\n",
      "663/663 [==============================] - 0s 715us/step - loss: 0.1136 - accuracy: 0.9725 - val_loss: 0.1406 - val_accuracy: 0.9585\n",
      "Epoch 11/20\n",
      "663/663 [==============================] - 0s 726us/step - loss: 0.1008 - accuracy: 0.9755 - val_loss: 0.1273 - val_accuracy: 0.9620\n",
      "Epoch 12/20\n",
      "663/663 [==============================] - 0s 717us/step - loss: 0.0903 - accuracy: 0.9782 - val_loss: 0.1094 - val_accuracy: 0.9711\n",
      "Epoch 13/20\n",
      "663/663 [==============================] - 0s 721us/step - loss: 0.0814 - accuracy: 0.9805 - val_loss: 0.0974 - val_accuracy: 0.9757\n",
      "Epoch 14/20\n",
      "663/663 [==============================] - 0s 748us/step - loss: 0.0741 - accuracy: 0.9823 - val_loss: 0.0947 - val_accuracy: 0.9738\n",
      "Epoch 15/20\n",
      "663/663 [==============================] - 0s 726us/step - loss: 0.0679 - accuracy: 0.9841 - val_loss: 0.0832 - val_accuracy: 0.9801\n",
      "Epoch 16/20\n",
      "663/663 [==============================] - 0s 729us/step - loss: 0.0625 - accuracy: 0.9851 - val_loss: 0.0768 - val_accuracy: 0.9809\n",
      "Epoch 17/20\n",
      "663/663 [==============================] - 0s 726us/step - loss: 0.0580 - accuracy: 0.9861 - val_loss: 0.0720 - val_accuracy: 0.9829\n",
      "Epoch 18/20\n",
      "663/663 [==============================] - 0s 726us/step - loss: 0.0540 - accuracy: 0.9871 - val_loss: 0.0700 - val_accuracy: 0.9830\n",
      "Epoch 19/20\n",
      "663/663 [==============================] - 0s 733us/step - loss: 0.0506 - accuracy: 0.9878 - val_loss: 0.0649 - val_accuracy: 0.9841\n",
      "Epoch 20/20\n",
      "663/663 [==============================] - 0s 726us/step - loss: 0.0475 - accuracy: 0.9884 - val_loss: 0.0604 - val_accuracy: 0.9852\n",
      "With Learning rate = 0.0001 Test Accuracy =  0.9852388501167297\n"
     ]
    }
   ],
   "source": [
    "rates = [0.01,0.001,0.0001]\n",
    "batch_size = 100\n",
    "loss_hist = []\n",
    "\n",
    "# TODO 12\n",
    "# for lr in rate:\n",
    "#    ...\n",
    "for lr in rates:\n",
    "    # Clear the session\n",
    "    K.clear_session()\n",
    "\n",
    "    # construct the network\n",
    "    model = Sequential()\n",
    "    model.add(Dense(nh, input_shape=(num_in,), activation='sigmoid', name='hidden'))\n",
    "    model.add(Dense(num_out, activation='softmax', name='output'))\n",
    "\n",
    "    # Select the optimizer with the correct learning rate to test\n",
    "    opt = optimizers.Adam(learning_rate=lr)\n",
    "    model.compile(optimizer=opt,loss='sparse_categorical_crossentropy',metrics=['accuracy'])\n",
    "\n",
    "    # train the model for 20 epochs\n",
    "    hist = model.fit(Xtr_scale, ytr, epochs=20, batch_size=batch_size, validation_data=(Xts_scale,yts))\n",
    "\n",
    "    # save the accuracy and losses\n",
    "    loss_hist.append(hist.history['loss'])\n",
    "    validation_accuracy = hist.history['val_accuracy'][-1]\n",
    "    print('With Learning rate =', lr, 'Test Accuracy = ', validation_accuracy)"
   ]
  },
  {
   "cell_type": "markdown",
   "metadata": {},
   "source": [
    "Plot the loss funciton vs. the epoch number for all three learning rates on one graph.  You should see that the lower learning rates are more stable, but converge slower."
   ]
  },
  {
   "cell_type": "code",
   "execution_count": 21,
   "metadata": {},
   "outputs": [
    {
     "data": {
      "image/png": "[encoded data removed]",
      "text/plain": [
       "<Figure size 432x288 with 1 Axes>"
      ]
     },
     "metadata": {
      "needs_background": "light"
     },
     "output_type": "display_data"
    }
   ],
   "source": [
    "# TODO 13\n",
    "ntest = len(loss_hist)\n",
    "ntr = Xtr.shape[0]\n",
    "batch_size=100\n",
    "for it, loss in enumerate(loss_hist):\n",
    "    num_epochs = len(loss)\n",
    "    epochs = np.arange(1,num_epochs + 1)\n",
    "    plt.semilogy(epochs, loss, 'o-')\n",
    "    rate_str = ['{0:5.4f}'.format(lr) for lr in rates]\n",
    "    plt.xlabel('Epochs')\n",
    "    plt.ylabel('Loss')\n",
    "    plt.legend(rate_str,loc='lower left')\n",
    "    plt.grid()"
   ]
  },
  {
   "cell_type": "code",
   "execution_count": 40,
   "metadata": {},
   "outputs": [
    {
     "data": {
      "text/plain": [
       "[<matplotlib.lines.Line2D at 0x233652f7a30>]"
      ]
     },
     "execution_count": 40,
     "metadata": {},
     "output_type": "execute_result"
    },
    {
     "data": {
      "image/png": "[encoded data removed]",
      "text/plain": [
       "<Figure size 432x288 with 1 Axes>"
      ]
     },
     "metadata": {
      "needs_background": "light"
     },
     "output_type": "display_data"
    }
   ],
   "source": [
    "x = np.arange(-4,3,0.1)\n",
    "y = []\n",
    "for i, xi in enumerate(x):\n",
    "    yi = max(0,xi+1) - max(0,xi-2)\n",
    "    y.append(yi)\n",
    "plt.plot(x,y)"
   ]
  },
  {
   "cell_type": "code",
   "execution_count": 42,
   "metadata": {},
   "outputs": [
    {
     "name": "stdout",
     "output_type": "stream",
     "text": [
      "[1 2 3 4 5 6]\n",
      "[[1]\n",
      " [2]\n",
      " [3]\n",
      " [4]\n",
      " [5]\n",
      " [6]]\n",
      "[[1]\n",
      " [2]\n",
      " [3]\n",
      " [4]\n",
      " [5]\n",
      " [6]]\n"
     ]
    }
   ],
   "source": [
    "x = np.array([1,2,3,4,5,6])\n",
    "print(x.T)\n",
    "print(x[:,None])\n",
    "print(x.reshape(-1,1))"
   ]
  },
  {
   "cell_type": "code",
   "execution_count": 38,
   "metadata": {},
   "outputs": [
    {
     "data": {
      "text/plain": [
       "(70,)"
      ]
     },
     "execution_count": 38,
     "metadata": {},
     "output_type": "execute_result"
    }
   ],
   "source": [
    "def predict(x,Wh,bh,Wo,bo):\n",
    "# Hidden layer\n",
    "    zh = x.reshape(-1,1) * Wh.T + bh.reshape(-1,1)\n",
    "    uh = np.maximum(0, zh)\n",
    "    # Output layer\n",
    "    yhat = uh.dot(Wo) + bo\n",
    "    return yhat"
   ]
  },
  {
   "cell_type": "code",
   "execution_count": null,
   "metadata": {},
   "outputs": [],
   "source": [
    "def loss_eval(X,y,W,b,a):\n",
    "\n",
    "    z = x @ W.T + b.T\n",
    "    u = 1 / (1 + np.exp(-z))\n",
    "    u_sum = np.sum(u,axis=1)\n",
    "    yhat = u @ a / u_sum\n",
    "    loss = np.sum((y-yhat)**2)\n",
    "    grd_yhat = 2*(yhat-y)\n",
    "    dyhat_du = a.T / u_sum.reshape(-1,1) - u * a.T / u_sum.reshape(-1,1)**2\n",
    "    grd_u = grd_yhat.reshape(-1,1) * dyhat_du\n",
    "    \n",
    "    return loss , grd_u"
   ]
  }
 ],
 "metadata": {
  "anaconda-cloud": {},
  "kernelspec": {
   "display_name": "Python 3",
   "language": "python",
   "name": "python3"
  },
  "language_info": {
   "codemirror_mode": {
    "name": "ipython",
    "version": 3
   },
   "file_extension": ".py",
   "mimetype": "text/x-python",
   "name": "python",
   "nbconvert_exporter": "python",
   "pygments_lexer": "ipython3",
   "version": "3.9.11"
  }
 },
 "nbformat": 4,
 "nbformat_minor": 1
}
